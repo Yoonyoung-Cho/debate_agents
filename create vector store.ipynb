{
 "cells": [
  {
   "cell_type": "code",
   "execution_count": 1,
   "metadata": {},
   "outputs": [],
   "source": [
    "from langchain_community.vectorstores import FAISS\n",
    "from langchain_openai import OpenAIEmbeddings\n",
    "from langchain.document_loaders import TextLoader\n",
    "from langchain.text_splitter import RecursiveCharacterTextSplitter\n",
    "\n",
    "# PDF 파일 로드\n",
    "loader1 = TextLoader(\"data/의대증원반대.txt\")\n",
    "loader2 = TextLoader(\"data/의대증원찬성.txt\")\n",
    "\n",
    "# 문서를 로드 및 분할\n",
    "text_splitter = RecursiveCharacterTextSplitter(\n",
    "    chunk_size=1000, chunk_overlap=100)\n",
    "docs1 = loader1.load_and_split(text_splitter)\n",
    "docs2 = loader2.load_and_split(text_splitter)\n",
    "\n",
    "# VectorStore를 생성\n",
    "vector1 = FAISS.from_documents(docs1, OpenAIEmbeddings())\n",
    "vector2 = FAISS.from_documents(docs2, OpenAIEmbeddings())"
   ]
  },
  {
   "cell_type": "code",
   "execution_count": 3,
   "metadata": {},
   "outputs": [],
   "source": [
    "# 저장\n",
    "vector1.save_local('./db/vector1')\n",
    "vector2.save_local('./db/vector2')"
   ]
  }
 ],
 "metadata": {
  "kernelspec": {
   "display_name": "callipolis",
   "language": "python",
   "name": "python3"
  },
  "language_info": {
   "codemirror_mode": {
    "name": "ipython",
    "version": 3
   },
   "file_extension": ".py",
   "mimetype": "text/x-python",
   "name": "python",
   "nbconvert_exporter": "python",
   "pygments_lexer": "ipython3",
   "version": "3.12.4"
  }
 },
 "nbformat": 4,
 "nbformat_minor": 2
}
